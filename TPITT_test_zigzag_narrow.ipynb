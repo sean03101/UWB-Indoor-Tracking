{
 "cells": [
  {
   "cell_type": "code",
   "execution_count": 2,
   "metadata": {},
   "outputs": [],
   "source": [
    "import numpy as np\n",
    "\n",
    "import pandas as pd\n",
    "import matplotlib.pyplot as plot\n",
    "import math\n",
    "from sklearn.model_selection import train_test_split\n",
    "import seaborn as sns\n",
    "\n",
    "import tensorflow as tf\n",
    "import tensorflow.keras as keras\n",
    "from tensorflow.keras.optimizers import Adam"
   ]
  },
  {
   "cell_type": "code",
   "execution_count": 3,
   "metadata": {},
   "outputs": [
    {
     "name": "stdout",
     "output_type": "stream",
     "text": [
      "1 Physical GPUs, 1 Logical GPUs\n"
     ]
    }
   ],
   "source": [
    "gpus = tf.config.experimental.list_physical_devices('GPU')\n",
    "if gpus:\n",
    "    try:\n",
    "    # Currently, memory growth needs to be the same across GPUs\n",
    "        for gpu in gpus:\n",
    "            tf.config.experimental.set_memory_growth(gpu, True)\n",
    "        logical_gpus = tf.config.experimental.list_logical_devices('GPU')\n",
    "        print(len(gpus), \"Physical GPUs,\", len(logical_gpus), \"Logical GPUs\")\n",
    "    except RuntimeError as e:\n",
    "        # Memory growth must be set before GPUs have been initialized\n",
    "        print(e)"
   ]
  },
  {
   "cell_type": "code",
   "execution_count": 4,
   "metadata": {},
   "outputs": [],
   "source": [
    "max_point = 29\n",
    "max_point3 = 2\n",
    "max_point2 = 25"
   ]
  },
  {
   "cell_type": "code",
   "execution_count": 5,
   "metadata": {},
   "outputs": [],
   "source": [
    "NOISE = 0.2\n",
    "MEAN_NOISE = 0.0\n",
    "\n",
    "######################################################\n",
    "# fix me\n",
    "# Parameters for CNNs\n",
    "CNN1_inputchannel = 3\n",
    "CNN1_outchannel = 4 \n",
    "CNN1_kernal = 11\n",
    "CNN1_stride = 1\n",
    "\n",
    "CNN2_outchannel = 8\n",
    "CNN2_kernal = 8\n",
    "CNN2_stride = 1\n",
    "\n",
    "CNN3_outchannel = 16\n",
    "CNN3_kernal = 4\n",
    "CNN3_stride = 1\n",
    "\n",
    "Pool_kernal = 2 # max pooling\n",
    "Pool_stride = 2\n",
    "\n",
    "num_epochs = 30\n",
    "batch_size = 15\n",
    "\n",
    "sensor_ref = [0,0]\n",
    "sensor1 = [10,0]\n",
    "sensor2 = [0,10]\n",
    "sensor3 = [10,10]\n",
    "\n",
    "world_size_x = 10\n",
    "world_size_y = 10\n",
    "grid_size = 0.1\n",
    "\n",
    "epsilon = 0.05\n",
    "temperature = 0.1\n",
    "######################################################\n",
    "\n",
    "MC_N = 10** 4  # Number of total simulation\n",
    "MC_N = int(MC_N * 2)\n",
    "size_x = 10   # X axis size\n",
    "size_y = 10   # Y axis size"
   ]
  },
  {
   "cell_type": "code",
   "execution_count": 6,
   "metadata": {},
   "outputs": [],
   "source": [
    "def line_func(e):\n",
    "    if(e<0.5):\n",
    "        return -4 * e + 2\n",
    "    \n",
    "    elif(e>=0.5 and e<1):\n",
    "        return 4 * e - 2\n",
    "    \n",
    "    elif(e>=1 and e<1.5):\n",
    "        return -4 * e + 6\n",
    "        \n",
    "    elif(e>=1.5 and e<=2):\n",
    "        return 4 * e - 6        \n",
    "\n",
    "def target_moving_zigzag(): #측정 시간 단위는 1초로! 속도 단위는 m/s\n",
    "    \n",
    "    x_cor_list = []\n",
    "    y_cor_list = []\n",
    "    \n",
    "    for i in range(200):\n",
    "        temp_x = 2 * np.random.rand(5)      \n",
    "        temp_x = np.append(temp_x, np.array([0, 2]))\n",
    "        temp_x = np.sort(temp_x)\n",
    "        \n",
    "        vfunc = np.vectorize(line_func)\n",
    "        temp_y = vfunc(temp_x)\n",
    "        \n",
    "        x_cor_list.append(temp_x)\n",
    "        y_cor_list.append(temp_y)\n",
    "        \n",
    "        \n",
    "        temp_x = 2 * np.random.rand(5)      \n",
    "        temp_x = np.append(temp_x, np.array([0.01,1.99]))\n",
    "        temp_x = np.sort(temp_x)[::-1]\n",
    "\n",
    "        vfunc = np.vectorize(line_func)\n",
    "        temp_y = vfunc(temp_x)\n",
    "        \n",
    "        x_cor_list.append(temp_x)\n",
    "        y_cor_list.append(temp_y)\n",
    "        \n",
    "    return np.array(x_cor_list).flatten().flatten(), np.array(y_cor_list).flatten().flatten()\n",
    "    \n",
    "X_x_list, X_y_list = target_moving_zigzag()\n",
    "\n",
    "\n",
    "\n",
    "sensor_ref_x_list = [0] * len(X_x_list)                      #sensor ref x coordinate\n",
    "sensor_ref_y_list = [0] * len(X_x_list)                           #sensor ref  y coordinate\n",
    "sensor_one_x_list = [size_x] * len(X_x_list)                      #sensor 1 x coordinate\n",
    "sensor_one_y_list = [0] * len(X_x_list)                           #sensor 1 y coordinate\n",
    "sensor_two_x_list = [0] * len(X_x_list)                           #sensor 2 x coordinate\n",
    "sensor_two_y_list = [size_y] * len(X_x_list)                      #sensor 2 y coordinate\n",
    "sensor_three_x_list = [size_x] * len(X_x_list)                     #sensor 3 x coordinate\n",
    "sensor_three_y_list = [size_y] * len(X_x_list)                     #sensor 3 y coordinate\n",
    "\n",
    "df = pd.DataFrame(data = {'X_x':X_x_list , 'X_y' : X_y_list  \n",
    "                         })\n",
    "\n",
    "MC_N = len(X_x_list)  "
   ]
  },
  {
   "cell_type": "code",
   "execution_count": 7,
   "metadata": {},
   "outputs": [
    {
     "data": {
      "text/html": [
       "<div>\n",
       "<style scoped>\n",
       "    .dataframe tbody tr th:only-of-type {\n",
       "        vertical-align: middle;\n",
       "    }\n",
       "\n",
       "    .dataframe tbody tr th {\n",
       "        vertical-align: top;\n",
       "    }\n",
       "\n",
       "    .dataframe thead th {\n",
       "        text-align: right;\n",
       "    }\n",
       "</style>\n",
       "<table border=\"1\" class=\"dataframe\">\n",
       "  <thead>\n",
       "    <tr style=\"text-align: right;\">\n",
       "      <th></th>\n",
       "      <th>X_x</th>\n",
       "      <th>X_y</th>\n",
       "    </tr>\n",
       "  </thead>\n",
       "  <tbody>\n",
       "    <tr>\n",
       "      <th>0</th>\n",
       "      <td>0.000000</td>\n",
       "      <td>2.000000</td>\n",
       "    </tr>\n",
       "    <tr>\n",
       "      <th>1</th>\n",
       "      <td>0.716981</td>\n",
       "      <td>0.867924</td>\n",
       "    </tr>\n",
       "  </tbody>\n",
       "</table>\n",
       "</div>"
      ],
      "text/plain": [
       "        X_x       X_y\n",
       "0  0.000000  2.000000\n",
       "1  0.716981  0.867924"
      ]
     },
     "execution_count": 7,
     "metadata": {},
     "output_type": "execute_result"
    }
   ],
   "source": [
    "df.head(2)"
   ]
  },
  {
   "cell_type": "code",
   "execution_count": 8,
   "metadata": {},
   "outputs": [],
   "source": [
    "from __future__ import division, print_function\n",
    "from multilateration_tdoa import TDoAEngine, TDoAMeasurement, Anchor, Point\n",
    "import numpy as np\n",
    "\n",
    "def noise():\n",
    "    \"\"\"Returns gaussian noise\"\"\"\n",
    "    return np.random.normal(MEAN_NOISE, NOISE)\n",
    "\n",
    "def tdoa(A,B,P):\n",
    "    \"\"\"Computes |PB| - |PA| + gaussian noise\"\"\"\n",
    "    return P.dist(B)-P.dist(A) + noise()\n",
    "\n",
    "def fakeTDOA(A,B,P):\n",
    "    \"\"\"Returns a fake measurements with anchors A, B from a point P\"\"\"\n",
    "    return TDoAMeasurement(A, B, tdoa(A,B,P))\n",
    "\n",
    "engine = TDoAEngine(n_measurements=6, max_dist_hess=100) # Avoid value rejection.\n",
    "\n",
    "A = Anchor((0,0,0))\n",
    "B = Anchor((world_size_x,0,0))\n",
    "C = Anchor((world_size_x,world_size_y,0))\n",
    "D = Anchor((0,world_size_y,0))\n",
    "\n",
    "TDOA_X_hat_ref_one_error_list = [-100] * MC_N  \n",
    "TDOA_X_hat_ref_two_error_list = [-100] * MC_N  \n",
    "TDOA_X_hat_ref_three_error_list = [-100] * MC_N  \n",
    " \n",
    "\n",
    "for i in range(MC_N):\n",
    "    P = Point(X_x_list[i],X_y_list[i],0)\n",
    "    \n",
    "    TDOA_X_hat_ref_one_error_list[i] =   float(fakeTDOA(A, B, P).tdoa) # ref과 앵커 B와 TDOA\n",
    "    TDOA_X_hat_ref_two_error_list[i] =  float(fakeTDOA(A, C, P).tdoa) # ref과 앵커 C와 TDOA\n",
    "    TDOA_X_hat_ref_three_error_list[i] =   float(fakeTDOA(A, D, P).tdoa)# ref과 앵커 D와 TDOA\n",
    "\n",
    "df['TDOA_X_hat_ref_one_error'] = TDOA_X_hat_ref_one_error_list\n",
    "df['TDOA_X_hat_ref_two_error'] = TDOA_X_hat_ref_two_error_list\n",
    "df['TDOA_X_hat_ref_three_error'] = TDOA_X_hat_ref_three_error_list\n",
    "\n",
    "df_parsing = df[['TDOA_X_hat_ref_one_error' , 'TDOA_X_hat_ref_two_error' , 'TDOA_X_hat_ref_three_error' , 'X_x' , 'X_y']]\n",
    "df_parsing.columns = ['TDOA_1', 'TDOA_2', 'TDOA_3' , 'coordinate_x' , 'coordinate_y']\n",
    "\n",
    "df_parsing = df_parsing.reset_index(drop=True)\n",
    "\n",
    "TDOA_X_ref_one_list = df_parsing['TDOA_1'].tolist()\n",
    "TDOA_X_ref_two_list = df_parsing['TDOA_2'].tolist()\n",
    "TDOA_X_ref_three_list = df_parsing['TDOA_3'].tolist()\n",
    "\n",
    "TDOA_pair_ref = [(TDOA_X_ref_one_list[ii], TDOA_X_ref_two_list[ii], TDOA_X_ref_three_list[ii]) for ii in range(len(TDOA_X_ref_one_list))]\n",
    "\n",
    "ylabel_ref = [(X_x_list[ii] / size_x, X_y_list[ii] / size_y ) for ii in range(len(X_x_list))] "
   ]
  },
  {
   "cell_type": "code",
   "execution_count": 9,
   "metadata": {},
   "outputs": [],
   "source": [
    "def ScalerCoordinate(value):   #world size = area's width and height , value =  x,y coordinate\n",
    "    world_size = 10\n",
    "    value = value / world_size\n",
    "    return value\n",
    "\n",
    "\n",
    "def ScalerTDOA(value):   #world size = area's width and height , value = TDOA value\n",
    "    #world_size = 25 * 2**(0.5)\n",
    "    world_size = 100  \n",
    "    value = value / world_size\n",
    "    return value\n",
    "\n",
    "\n",
    "df = df_parsing\n",
    "\n",
    "df[['TDOA_1' , 'TDOA_2' , 'TDOA_3']] = df[['TDOA_1' , 'TDOA_2' , 'TDOA_3']].apply(ScalerTDOA)  #길이에 대하여 스케일링\n",
    "df[['coordinate_x' , 'coordinate_y']] = df[['coordinate_x' , 'coordinate_y']].apply(ScalerCoordinate)  #좌표에 대하여 스케일링\n",
    "\n",
    "train_df , test_df = train_test_split(df, test_size = 0.2)\n",
    "\n",
    "train_TDOAs = train_df[['TDOA_1' , 'TDOA_2' , 'TDOA_3']].to_numpy()\n",
    "train_X_Hats = train_df[['coordinate_x' , 'coordinate_y']].to_numpy()\n",
    "\n",
    "test_TDOAs = test_df[['TDOA_1' , 'TDOA_2' , 'TDOA_3']].to_numpy()\n",
    "test_X_Hats = test_df[['coordinate_x' , 'coordinate_y']].to_numpy()"
   ]
  },
  {
   "cell_type": "code",
   "execution_count": 10,
   "metadata": {},
   "outputs": [],
   "source": [
    "# TDOA image 생성 모듈 정의\n",
    "# input: TDPA\n",
    "# output: TDOA_images\n",
    "def TDOA_image_generation(sensor1, sensor2, TDOA, world_size_x, world_size_y, grid_size, epsilon, temperature):\n",
    "   \n",
    "  center_x = np.linspace(0 , world_size_x , int(world_size_x / grid_size))  + 0.5*grid_size  # x길이 10에 그리드사이즈가 2로 가정했을때 해당 좌표의 중심 좌표는 1, 3, 5, 7, 9 => 이를 수학적으로 수열화 한거!\n",
    "  center_y = np.linspace(world_size_y , 0 , int(world_size_x / grid_size))  + 0.5*grid_size  # 마찬가지\n",
    "  cord_center_x, cord_center_y = np.meshgrid(center_x,center_y)  #이를 매트릭스화\n",
    "  \n",
    "  distance_matrix = np.sqrt((cord_center_x - sensor1[0])**2 + (cord_center_y - sensor1[1])**2) - np.sqrt((cord_center_x - sensor2[0])**2 + (cord_center_y - sensor2[1])**2)  # 그리드 사이즈 중심좌표로부터 센서간의 거리의 계산 차 (=중심 좌표의 TDOA)\n",
    "  tdoa_distance = np.abs(distance_matrix - TDOA)  #실제 TDOA 값과 차이 계산\n",
    "\n",
    "  # 예시 [[10.8,0.38]\n",
    "  #        [7.679,12.6479]]\n",
    "\n",
    "  lfunc = lambda x: np.round(1 / (1 + np.exp( (x - epsilon) / temperature)), 5)\n",
    "  tdoa_image = lfunc(tdoa_distance)\n",
    "\n",
    "  return tdoa_image"
   ]
  },
  {
   "cell_type": "code",
   "execution_count": 11,
   "metadata": {},
   "outputs": [
    {
     "data": {
      "text/plain": [
       "(100, 100)"
      ]
     },
     "execution_count": 11,
     "metadata": {},
     "output_type": "execute_result"
    }
   ],
   "source": [
    "TDOA_sample = TDOA_pair_ref[0][0]\n",
    "TDOA_sample_image = TDOA_image_generation(sensor_ref, sensor1, TDOA_sample, world_size_x, world_size_y, grid_size, epsilon, temperature)\n",
    "TDOA_sample_image.shape"
   ]
  },
  {
   "cell_type": "code",
   "execution_count": 12,
   "metadata": {},
   "outputs": [
    {
     "name": "stdout",
     "output_type": "stream",
     "text": [
      "1000\n",
      "2000\n"
     ]
    }
   ],
   "source": [
    "TDOA_images_ref = []\n",
    "for ii in range(len(TDOA_pair_ref)):\n",
    "    image1 = TDOA_image_generation(sensor_ref, sensor1, TDOA_pair_ref[ii][0], world_size_x, world_size_y, grid_size, epsilon, temperature)\n",
    "    image2 = TDOA_image_generation(sensor_ref, sensor2, TDOA_pair_ref[ii][1], world_size_x, world_size_y, grid_size, epsilon, temperature)\n",
    "    image3 = TDOA_image_generation(sensor_ref, sensor3, TDOA_pair_ref[ii][2], world_size_x, world_size_y, grid_size, epsilon, temperature)\n",
    "    TDOA_images_ref.append((image1, image2, image3))\n",
    "    if(len(TDOA_images_ref) % 1000 == 0):\n",
    "      print(len(TDOA_images_ref))"
   ]
  },
  {
   "cell_type": "code",
   "execution_count": 13,
   "metadata": {},
   "outputs": [],
   "source": [
    "TDOA_images_cnn = TDOA_images_ref\n",
    "ylabels = ylabel_ref\n",
    "\n",
    "TDOA_images_test = TDOA_images_cnn[int(0.8*MC_N):]\n",
    "TDOA_image_val = TDOA_images_cnn[int(0.6*MC_N):int(0.8*MC_N)]\n",
    "TDOA_image_train = TDOA_images_cnn[:int(0.6*MC_N)]\n",
    "\n",
    "ylabels_test = ylabels[int(0.8*MC_N):]\n",
    "ylabels_val = ylabels[int(0.6*MC_N):int(0.8*MC_N)]\n",
    "ylabels_train = ylabels[:int(0.6*MC_N)]"
   ]
  },
  {
   "cell_type": "code",
   "execution_count": 14,
   "metadata": {},
   "outputs": [],
   "source": [
    "import tensorflow as tf\n",
    "from tensorflow import keras\n",
    "from tensorflow.keras import layers\n",
    "\n",
    "def create_cnn():\n",
    "    model = keras.Sequential()\n",
    "\n",
    "    model.add(layers.Conv2D(CNN1_outchannel, (CNN1_kernal, CNN1_kernal), activation=layers.LeakyReLU(alpha=0.01), strides=CNN1_stride, \n",
    "                            input_shape= (TDOA_sample_image.shape[0],TDOA_sample_image.shape[1], CNN1_inputchannel) ,kernel_initializer='he_normal'))\n",
    "    model.add(layers.MaxPool2D(pool_size=(Pool_kernal,Pool_kernal), strides= (Pool_stride, Pool_stride), padding = \"SAME\"  ) )\n",
    "    model.add(layers.Conv2D(CNN2_outchannel, (CNN2_kernal, CNN2_kernal),  activation=layers.LeakyReLU(alpha=0.01), strides=CNN2_stride ,kernel_initializer='he_normal'))\n",
    "    model.add(layers.MaxPool2D(pool_size=(Pool_kernal,Pool_kernal), strides=  (Pool_stride, Pool_stride), padding = \"SAME\"))\n",
    "    model.add(layers.Dropout(0.6))\n",
    "    model.add(layers.Conv2D(CNN3_outchannel, (CNN3_kernal, CNN3_kernal), activation=layers.LeakyReLU(alpha=0.01), strides=CNN3_stride ,kernel_initializer='he_normal'))\n",
    "    model.add(layers.MaxPool2D(pool_size=(Pool_kernal,Pool_kernal), strides=  (Pool_stride, Pool_stride), padding = \"SAME\"))\n",
    "    model.add(layers.Conv2D(CNN3_outchannel, (CNN3_kernal, CNN3_kernal), activation=layers.LeakyReLU(alpha=0.01), strides=CNN3_stride ,kernel_initializer='he_normal')) \n",
    "    model.add(layers.BatchNormalization()) \n",
    "    model.add(layers.Flatten())\n",
    "    model.add(layers.Dense(128, activation='relu'))\n",
    "    model.add(layers.Dropout(0.5))\n",
    "    model.add(layers.Dense(32, activation='relu'))\n",
    "    model.add(layers.Dense(2, activation=None))\n",
    "    return model\n",
    "\n",
    "model = create_cnn()"
   ]
  },
  {
   "cell_type": "code",
   "execution_count": 15,
   "metadata": {},
   "outputs": [
    {
     "name": "stdout",
     "output_type": "stream",
     "text": [
      "평균 오차 거리 :  0.8593 미터\n"
     ]
    }
   ],
   "source": [
    "model.compile(optimizer=Adam(learning_rate=1 * 1e-3),\n",
    "        loss='MSE',\n",
    "        metrics=['mse'])\n",
    "\n",
    "\n",
    "model.load_weights(\"MultilaterationTDOA/실험모음/weight/cnn/cp-\" + str(max_point+1) + \".ckpt\")\n",
    "\n",
    "predict_X_Hats = model.predict(np.array(TDOA_images_cnn).swapaxes(1,3))\n",
    "\n",
    "distance_gap = np.sqrt(np.sum(np.square(predict_X_Hats*world_size_x - np.array(ylabels)*world_size_x), axis = 1))\n",
    "\n",
    "mean_distance_gap = np.mean(distance_gap)\n",
    "print('평균 오차 거리 : ' , np.round(mean_distance_gap,4) , '미터')"
   ]
  },
  {
   "cell_type": "code",
   "execution_count": 16,
   "metadata": {},
   "outputs": [
    {
     "name": "stdout",
     "output_type": "stream",
     "text": [
      "평균 오차 거리 :  0.9994 미터\n"
     ]
    }
   ],
   "source": [
    "# Do not modify this block\n",
    "from tensorflow.keras import models\n",
    "from tensorflow.keras import layers\n",
    "\n",
    "def create_fcnn():\n",
    "    model2 = models.Sequential()\n",
    "    model2.add(layers.Dense(32, activation='relu', input_shape=(3,)))\n",
    "    model2.add(layers.Dropout(0.4))\n",
    "    model2.add(layers.Dense(16, activation='relu'))\n",
    "    model2.add(layers.Dense(8, activation='relu'))\n",
    "    model2.add(layers.Dense(2))\n",
    "    model2.compile(optimizer=Adam(learning_rate=1 * 1e-3), loss='mse', metrics=['mse'])\n",
    "    return model2\n",
    "\n",
    "model2 = create_fcnn()\n",
    "\n",
    "model2.load_weights(\"MultilaterationTDOA/실험모음/weight/fcnn/cp-0\" + str(max_point3+1) + \".ckpt\")\n",
    "  \n",
    "predict_X_Hats = model2.predict(df[['TDOA_1' , 'TDOA_2' , 'TDOA_3']].to_numpy())\n",
    "\n",
    "distance_gap = np.sqrt(np.sum(np.square(predict_X_Hats*world_size_x - df[['coordinate_x' , 'coordinate_y']].to_numpy()*world_size_x), axis = 1))\n",
    "\n",
    "mean_distance_gap = np.mean(distance_gap)\n",
    "print('평균 오차 거리 : ' , np.round(mean_distance_gap,4) , '미터')\n",
    "predict_X_Hats2 = predict_X_Hats"
   ]
  },
  {
   "cell_type": "code",
   "execution_count": 17,
   "metadata": {},
   "outputs": [],
   "source": [
    "lstm_time_series = 4\n",
    "\n",
    "TDOA_images_ref_temp = np.array(TDOA_images_ref)\n",
    "\n",
    "for i in range(lstm_time_series):\n",
    "    globals()['TDOA_imgaes_lstm{}'.format(i)] = TDOA_images_ref_temp[i:int(MC_N-lstm_time_series+i+1)]\n",
    "\n",
    "TDOA_images_lstm = np.stack(  [TDOA_imgaes_lstm0 , TDOA_imgaes_lstm1,TDOA_imgaes_lstm2,TDOA_imgaes_lstm3] ,axis=1 )\n",
    "\n",
    "ylabels = np.array(ylabels)\n",
    "\n",
    "for i in range(lstm_time_series):\n",
    "    globals()['ylabels_lstm{}'.format(i)] = ylabels[i:int(MC_N-lstm_time_series+i+1)]\n",
    "\n",
    "ylabels_lstm = np.stack(  [ylabels_lstm0, ylabels_lstm1, ylabels_lstm2, ylabels_lstm3] ,axis=1 )\n",
    "\n",
    "ylabels_lstm = ylabels[lstm_time_series-1:]"
   ]
  },
  {
   "cell_type": "code",
   "execution_count": 18,
   "metadata": {},
   "outputs": [
    {
     "data": {
      "text/plain": [
       "(2797, 4, 3, 100, 100)"
      ]
     },
     "execution_count": 18,
     "metadata": {},
     "output_type": "execute_result"
    }
   ],
   "source": [
    "TDOA_images_lstm.shape"
   ]
  },
  {
   "cell_type": "code",
   "execution_count": 19,
   "metadata": {},
   "outputs": [
    {
     "data": {
      "text/plain": [
       "(2797, 2)"
      ]
     },
     "execution_count": 19,
     "metadata": {},
     "output_type": "execute_result"
    }
   ],
   "source": [
    "ylabels_lstm.shape"
   ]
  },
  {
   "cell_type": "code",
   "execution_count": 20,
   "metadata": {},
   "outputs": [
    {
     "name": "stdout",
     "output_type": "stream",
     "text": [
      "평균 오차 거리 :  0.4637 미터\n"
     ]
    }
   ],
   "source": [
    "from tensorflow.keras.utils import plot_model\n",
    "\n",
    "def create_conv_lstm():\n",
    "    seq = keras.Sequential()\n",
    "    seq.add(layers.ConvLSTM2D(CNN1_outchannel, (CNN1_kernal, CNN1_kernal),\n",
    "                            input_shape= (4, TDOA_sample_image.shape[0],TDOA_sample_image.shape[1], CNN1_inputchannel ) ,return_sequences=True))\n",
    "    seq.add(layers.MaxPool3D(pool_size=(Pool_kernal,Pool_kernal,Pool_kernal), strides= (1,Pool_stride, Pool_stride), padding = \"SAME\"))\n",
    "    seq.add(layers.ConvLSTM2D(CNN2_outchannel, (CNN2_kernal, CNN2_kernal),return_sequences=True))\n",
    "    seq.add(layers.MaxPool3D(pool_size=(Pool_kernal,Pool_kernal,Pool_kernal), strides=  (1,Pool_stride, Pool_stride), padding = \"SAME\"))\n",
    "    seq.add(layers.Dropout(0.6))\n",
    "    seq.add(layers.ConvLSTM2D(CNN3_outchannel, (CNN3_kernal, CNN3_kernal),return_sequences=True))\n",
    "    seq.add(layers.MaxPool3D(pool_size=(Pool_kernal,Pool_kernal,Pool_kernal), strides=  (1,Pool_stride, Pool_stride), padding = \"SAME\"))\n",
    "    seq.add(layers.ConvLSTM2D(CNN3_outchannel, (CNN3_kernal, CNN3_kernal),return_sequences=False))\n",
    "    seq.add(layers.BatchNormalization()) \n",
    "    seq.add(layers.Flatten())\n",
    "    seq.add(layers.Dense(128, activation='relu'))\n",
    "    seq.add(layers.Dropout(0.5))\n",
    "    seq.add(layers.Dense(32, activation='relu'))\n",
    "    seq.add(layers.Dense(2, activation=None))\n",
    "    return seq\n",
    "\n",
    "\n",
    "\n",
    "seq = create_conv_lstm()\n",
    "seq.load_weights(\n",
    "        \"MultilaterationTDOA/실험모음/weight/conv_cnn/cp-\" + str(max_point2+1) + \".ckpt\"\n",
    "    )\n",
    "\n",
    "predict_X_Hats = seq.predict(TDOA_images_lstm.swapaxes(2,4))\n",
    "\n",
    "distance_gap = np.sqrt(np.sum(np.square(predict_X_Hats*world_size_x - ylabels_lstm*world_size_x), axis = 1))\n",
    "\n",
    "mean_distance_gap = np.mean(distance_gap)\n",
    "print('평균 오차 거리 : ' , np.round(mean_distance_gap,4) , '미터')"
   ]
  },
  {
   "cell_type": "code",
   "execution_count": 32,
   "metadata": {},
   "outputs": [
    {
     "data": {
      "image/png": "[encoded data removed]",
      "text/plain": [
       "<Figure size 1440x1440 with 1 Axes>"
      ]
     },
     "metadata": {
      "needs_background": "light"
     },
     "output_type": "display_data"
    }
   ],
   "source": [
    "conv_lstm_temp_x = []\n",
    "conv_lstm_temp_y = []\n",
    "fcnn_temp_x = []\n",
    "fcnn_temp_y = []\n",
    "\n",
    "real_label_x = []\n",
    "real_label_y = []\n",
    "\n",
    "for i in range(len(ylabels_lstm)):\n",
    "    if i % 720 == 0:\n",
    "        conv_lstm_temp_x.append(predict_X_Hats[i][0]*world_size_x)\n",
    "        conv_lstm_temp_y.append(predict_X_Hats[i][1]*world_size_x)\n",
    "        \n",
    "        fcnn_temp_x.append(predict_X_Hats2[i][0]*world_size_x)\n",
    "        fcnn_temp_y.append(predict_X_Hats2[i][1]*world_size_x)\n",
    "        \n",
    "        real_label_x.append(ylabels_lstm[i][0]*world_size_x)\n",
    "        real_label_y.append(ylabels_lstm[i][1]*world_size_x)\n",
    "        \n",
    "        import matplotlib.pyplot as plt\n",
    "\n",
    "plt.figure(figsize=(20,20))\n",
    "plt.plot([0,0.5,1,1.5,2], [2,0,2,0,2], linewidth = 3, color='black')\n",
    "plt.scatter(conv_lstm_temp_x,conv_lstm_temp_y,marker=\"v\",color='r',label=\"Convolutional-LSTM Estimate\", s=150)\n",
    "plt.scatter(fcnn_temp_x,fcnn_temp_y,marker=\"^\",color='g',label=\"FCNNs Estimate\", s=150)\n",
    "plt.scatter(real_label_x,real_label_y,marker=\"o\",color='b',label=\"Real Target\", s=150)\n",
    "plt.xlabel('Coordinate x(m)', fontsize=30)\n",
    "plt.ylabel('Coordinate y(m)', fontsize=30)\n",
    "plt.ylim(-0.25,3)\n",
    "plt.xlim(-0.25,3)\n",
    "plt.title('Example of tracking of zigzag objects at narrow space', fontsize=40)\n",
    "plt.legend()\n",
    "plt.savefig('zigzag_narrow_example')\n",
    "plt.show()\n",
    "\n"
   ]
  }
 ],
 "metadata": {
  "kernelspec": {
   "display_name": "Python 3.9.0 ('position31')",
   "language": "python",
   "name": "python3"
  },
  "language_info": {
   "codemirror_mode": {
    "name": "ipython",
    "version": 3
   },
   "file_extension": ".py",
   "mimetype": "text/x-python",
   "name": "python",
   "nbconvert_exporter": "python",
   "pygments_lexer": "ipython3",
   "version": "3.9.0"
  },
  "orig_nbformat": 4,
  "vscode": {
   "interpreter": {
    "hash": "5a905c007ff2d38bb2c7b3a29a7607fb69ad0b0424e092736524db498399bd8a"
   }
  }
 },
 "nbformat": 4,
 "nbformat_minor": 2
}
